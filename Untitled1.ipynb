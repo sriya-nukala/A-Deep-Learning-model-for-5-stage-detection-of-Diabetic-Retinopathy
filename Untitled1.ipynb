{
 "cells": [
  {
   "cell_type": "code",
   "execution_count": 5,
   "id": "f4c72e63",
   "metadata": {},
   "outputs": [
    {
     "ename": "ModuleNotFoundError",
     "evalue": "No module named 'tensorflow_datasets'",
     "output_type": "error",
     "traceback": [
      "\u001b[1;31m---------------------------------------------------------------------------\u001b[0m",
      "\u001b[1;31mModuleNotFoundError\u001b[0m                       Traceback (most recent call last)",
      "Cell \u001b[1;32mIn[5], line 8\u001b[0m\n\u001b[0;32m      6\u001b[0m \u001b[38;5;28;01mfrom\u001b[39;00m \u001b[38;5;21;01mtensorflow\u001b[39;00m \u001b[38;5;28;01mimport\u001b[39;00m keras\n\u001b[0;32m      7\u001b[0m \u001b[38;5;28;01mimport\u001b[39;00m \u001b[38;5;21;01mtensorflow_hub\u001b[39;00m \u001b[38;5;28;01mas\u001b[39;00m \u001b[38;5;21;01mhub\u001b[39;00m\n\u001b[1;32m----> 8\u001b[0m \u001b[38;5;28;01mimport\u001b[39;00m \u001b[38;5;21;01mtensorflow_datasets\u001b[39;00m \u001b[38;5;28;01mas\u001b[39;00m \u001b[38;5;21;01mtfds\u001b[39;00m\n\u001b[0;32m     10\u001b[0m tfds\u001b[38;5;241m.\u001b[39mdisable_progress_bar()\n\u001b[0;32m     12\u001b[0m SEEDS \u001b[38;5;241m=\u001b[39m \u001b[38;5;241m42\u001b[39m\n",
      "\u001b[1;31mModuleNotFoundError\u001b[0m: No module named 'tensorflow_datasets'"
     ]
    }
   ],
   "source": [
    "import numpy as np\n",
    "import pandas as pd\n",
    "import matplotlib.pyplot as plt\n",
    "\n",
    "import tensorflow as tf\n",
    "from tensorflow import keras\n",
    "import tensorflow_hub as hub\n",
    "import tensorflow_datasets as tfds\n",
    "\n",
    "tfds.disable_progress_bar()\n",
    "\n",
    "SEEDS = 42\n",
    "\n",
    "np.random.seed(SEEDS)\n",
    "tf.random.set_seed(SEEDS)"
   ]
  },
  {
   "cell_type": "code",
   "execution_count": 2,
   "id": "296ce98e",
   "metadata": {},
   "outputs": [
    {
     "name": "stdout",
     "output_type": "stream",
     "text": [
      "Collecting tensorflow_hub\n",
      "  Downloading tensorflow_hub-0.15.0-py2.py3-none-any.whl (85 kB)\n",
      "     ---------------------------------------- 85.4/85.4 kB 1.6 MB/s eta 0:00:00\n",
      "Requirement already satisfied: numpy>=1.12.0 in c:\\users\\sriya nukala\\anaconda3\\lib\\site-packages (from tensorflow_hub) (1.23.5)\n",
      "Requirement already satisfied: protobuf>=3.19.6 in c:\\users\\sriya nukala\\anaconda3\\lib\\site-packages (from tensorflow_hub) (4.24.0)\n",
      "Installing collected packages: tensorflow_hub\n",
      "Successfully installed tensorflow_hub-0.15.0\n",
      "Note: you may need to restart the kernel to use updated packages.\n"
     ]
    }
   ],
   "source": [
    "pip install tensorflow_hub"
   ]
  },
  {
   "cell_type": "code",
   "execution_count": 3,
   "id": "cb171f1a",
   "metadata": {},
   "outputs": [],
   "source": [
    "dataset_path = r'C:\\Users\\Sriya Nukala\\Downloads\\Dataset1\\gaussian_filtered_images'\n"
   ]
  },
  {
   "cell_type": "code",
   "execution_count": 7,
   "id": "a3286f65",
   "metadata": {},
   "outputs": [
    {
     "name": "stdout",
     "output_type": "stream",
     "text": [
      "Found 3116 images belonging to 5 classes.\n",
      "Found 546 images belonging to 5 classes.\n"
     ]
    }
   ],
   "source": [
    "datagen = tf.keras.preprocessing.image.ImageDataGenerator(rescale = 1./255,\n",
    "                                                          samplewise_center = True,\n",
    "                                                          samplewise_std_normalization = True,\n",
    "                                                          validation_split = 0.15)\n",
    "# set as training data\n",
    "\n",
    "train_gen  = datagen.flow_from_directory(\n",
    "    dataset_path,\n",
    "    target_size=(224, 224),\n",
    "    batch_size = 64,\n",
    "    seed = 1,\n",
    "    color_mode = 'rgb',\n",
    "    shuffle = True,\n",
    "    class_mode='categorical',\n",
    "    subset='training') \n",
    "\n",
    "# same directory as training data\n",
    "\n",
    "valid_gen  = datagen.flow_from_directory(\n",
    "    dataset_path ,\n",
    "    target_size=(224, 224),\n",
    "    batch_size = 64,\n",
    "    seed = 1,\n",
    "    color_mode = 'rgb',\n",
    "    shuffle = False,\n",
    "    class_mode='categorical',\n",
    "    subset='validation')"
   ]
  },
  {
   "cell_type": "code",
   "execution_count": 8,
   "id": "e64d20fc",
   "metadata": {},
   "outputs": [
    {
     "ename": "AttributeError",
     "evalue": "'DirectoryIterator' object has no attribute 'take'",
     "output_type": "error",
     "traceback": [
      "\u001b[1;31m---------------------------------------------------------------------------\u001b[0m",
      "\u001b[1;31mAttributeError\u001b[0m                            Traceback (most recent call last)",
      "Cell \u001b[1;32mIn[8], line 2\u001b[0m\n\u001b[0;32m      1\u001b[0m plt\u001b[38;5;241m.\u001b[39mfigure(figsize\u001b[38;5;241m=\u001b[39m(\u001b[38;5;241m10\u001b[39m, \u001b[38;5;241m10\u001b[39m))\n\u001b[1;32m----> 2\u001b[0m \u001b[38;5;28;01mfor\u001b[39;00m i, (image, label) \u001b[38;5;129;01min\u001b[39;00m \u001b[38;5;28menumerate\u001b[39m(\u001b[43mtrain_gen\u001b[49m\u001b[38;5;241;43m.\u001b[39;49m\u001b[43mtake\u001b[49m(\u001b[38;5;241m9\u001b[39m)):\n\u001b[0;32m      3\u001b[0m     ax \u001b[38;5;241m=\u001b[39m plt\u001b[38;5;241m.\u001b[39msubplot(\u001b[38;5;241m3\u001b[39m, \u001b[38;5;241m3\u001b[39m, i \u001b[38;5;241m+\u001b[39m \u001b[38;5;241m1\u001b[39m)\n\u001b[0;32m      4\u001b[0m     plt\u001b[38;5;241m.\u001b[39mimshow(image)\n",
      "\u001b[1;31mAttributeError\u001b[0m: 'DirectoryIterator' object has no attribute 'take'"
     ]
    },
    {
     "data": {
      "text/plain": [
       "<Figure size 1000x1000 with 0 Axes>"
      ]
     },
     "metadata": {},
     "output_type": "display_data"
    }
   ],
   "source": [
    "plt.figure(figsize=(10, 10))\n",
    "for i, (image, label) in enumerate(train_gen.take(9)):\n",
    "    ax = plt.subplot(3, 3, i + 1)\n",
    "    plt.imshow(image)\n",
    "    plt.title(int(label))\n",
    "    plt.axis(\"off\")"
   ]
  },
  {
   "cell_type": "code",
   "execution_count": 9,
   "id": "fe0171e8",
   "metadata": {},
   "outputs": [],
   "source": [
    "RESIZE_TO = 384\n",
    "CROP_TO = 224\n",
    "BATCH_SIZE = 64\n",
    "STEPS_PER_EPOCH = 10\n",
    "AUTO = tf.data.AUTOTUNE  # optimise the pipeline performance\n",
    "NUM_CLASSES = 5  # number of classes\n",
    "SCHEDULE_LENGTH = (\n",
    "    500  # we will train on lower resolution images and will still attain good results\n",
    ")\n",
    "SCHEDULE_BOUNDARIES = [\n",
    "    200,\n",
    "    300,\n",
    "    400,\n",
    "]  "
   ]
  },
  {
   "cell_type": "code",
   "execution_count": 12,
   "id": "386ee3b2",
   "metadata": {},
   "outputs": [],
   "source": [
    "SCHEDULE_LENGTH = SCHEDULE_LENGTH * 512 / BATCH_SIZE\n",
    "\n",
    "\n",
    "@tf.function\n",
    "def preprocess_train(image, label):\n",
    "    image = tf.image.random_flip_left_right(image)\n",
    "    image = tf.image.resize(image, (RESIZE_TO, RESIZE_TO))\n",
    "    image = tf.image.random_crop(image, (CROP_TO, CROP_TO, 3))\n",
    "    image = image / 255.0\n",
    "    return (image, label)\n",
    "\n",
    "\n",
    "@tf.function\n",
    "def preprocess_test(image, label):\n",
    "    image = tf.image.resize(image, (RESIZE_TO, RESIZE_TO))\n",
    "    image = image / 255.0\n",
    "    return (image, label)\n",
    "\n",
    "\n",
    "# DATASET_NUM_TRAIN_EXAMPLES = train_gen.cardinality().numpy()\n",
    "\n",
    "# repeat_count = int(\n",
    "#     SCHEDULE_LENGTH * BATCH_SIZE / DATASET_NUM_TRAIN_EXAMPLES * STEPS_PER_EPOCH\n",
    "# )\n",
    "# repeat_count += 50 + 1  "
   ]
  },
  {
   "cell_type": "code",
   "execution_count": null,
   "id": "3185b81d",
   "metadata": {},
   "outputs": [],
   "source": []
  }
 ],
 "metadata": {
  "kernelspec": {
   "display_name": "Python 3 (ipykernel)",
   "language": "python",
   "name": "python3"
  },
  "language_info": {
   "codemirror_mode": {
    "name": "ipython",
    "version": 3
   },
   "file_extension": ".py",
   "mimetype": "text/x-python",
   "name": "python",
   "nbconvert_exporter": "python",
   "pygments_lexer": "ipython3",
   "version": "3.10.9"
  }
 },
 "nbformat": 4,
 "nbformat_minor": 5
}
