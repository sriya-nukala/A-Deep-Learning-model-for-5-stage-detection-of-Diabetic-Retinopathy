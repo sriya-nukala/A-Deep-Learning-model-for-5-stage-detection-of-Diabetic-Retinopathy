{
 "cells": [
  {
   "cell_type": "code",
   "execution_count": 3,
   "id": "91182104",
   "metadata": {},
   "outputs": [
    {
     "name": "stderr",
     "output_type": "stream",
     "text": [
      "C:\\Users\\Sriya Nukala\\anaconda3\\lib\\site-packages\\tensorflow_addons\\utils\\tfa_eol_msg.py:23: UserWarning: \n",
      "\n",
      "TensorFlow Addons (TFA) has ended development and introduction of new features.\n",
      "TFA has entered a minimal maintenance and release mode until a planned end of life in May 2024.\n",
      "Please modify downstream libraries to take dependencies from other repositories in our TensorFlow community (e.g. Keras, Keras-CV, and Keras-NLP). \n",
      "\n",
      "For more information see: https://github.com/tensorflow/addons/issues/2807 \n",
      "\n",
      "  warnings.warn(\n",
      "C:\\Users\\Sriya Nukala\\anaconda3\\lib\\site-packages\\tensorflow_addons\\utils\\ensure_tf_install.py:53: UserWarning: Tensorflow Addons supports using Python ops for all Tensorflow versions above or equal to 2.11.0 and strictly below 2.14.0 (nightly versions are not supported). \n",
      " The versions of TensorFlow you are currently using is 2.14.0 and is not supported. \n",
      "Some things might work, some things might not.\n",
      "If you were to encounter a bug, do not file an issue.\n",
      "If you want to make sure you're using a tested and supported configuration, either change the TensorFlow version or the TensorFlow Addons's version. \n",
      "You can find the compatibility matrix in TensorFlow Addon's readme:\n",
      "https://github.com/tensorflow/addons\n",
      "  warnings.warn(\n"
     ]
    }
   ],
   "source": [
    "import pandas as pd\n",
    "import numpy as np\n",
    "import seaborn as sns\n",
    "import matplotlib.pyplot as plt\n",
    "\n",
    "import os\n",
    "import glob \n",
    "import keras\n",
    "import pathlib\n",
    "import tensorflow as tf\n",
    "import tensorflow_addons as tfa\n",
    "import skimage.color as scc\n",
    "\n",
    "from skimage import io\n",
    "from random import randint\n",
    "from keras.utils import to_categorical\n",
    "\n",
    "from sklearn.model_selection import train_test_split\n",
    "from sklearn.preprocessing import LabelEncoder\n",
    "from imblearn.over_sampling import SMOTE\n",
    "from tensorflow.keras.preprocessing.image import ImageDataGenerator as ID\n",
    "from tensorflow.keras.layers import GlobalAveragePooling2D\n",
    "from tensorflow.keras.layers import GaussianNoise\n",
    "from tensorflow.keras.models import Sequential\n",
    "from tensorflow.keras.optimizers import Adam, Adamax\n",
    "from tensorflow.keras.metrics import categorical_crossentropy\n",
    "from tensorflow.keras.callbacks import EarlyStopping\n",
    "from tensorflow.keras.layers import Conv2D, MaxPooling2D, Flatten, Dense, Activation, Dropout, BatchNormalization\n",
    "from tensorflow.keras import regularizers\n",
    "from tensorflow.keras.layers import LSTM\n",
    "from tensorflow.keras.layers import Bidirectional"
   ]
  },
  {
   "cell_type": "code",
   "execution_count": 139,
   "id": "f9d57937",
   "metadata": {},
   "outputs": [
    {
     "name": "stdout",
     "output_type": "stream",
     "text": [
      "Retrieving notices: ...working... done\n",
      "\n",
      "Note: you may need to restart the kernel to use updated packages.\n"
     ]
    },
    {
     "name": "stderr",
     "output_type": "stream",
     "text": [
      "\n",
      "EnvironmentLocationNotFound: Not a conda environment: C:\\Users\\Sriya\n",
      "\n"
     ]
    }
   ],
   "source": [
    "conda install keras"
   ]
  },
  {
   "cell_type": "code",
   "execution_count": 134,
   "id": "211d8877",
   "metadata": {},
   "outputs": [
    {
     "name": "stdout",
     "output_type": "stream",
     "text": [
      "Collecting np_utils\n",
      "  Downloading np_utils-0.6.0.tar.gz (61 kB)\n",
      "     ---------------------------------------- 62.0/62.0 kB 1.7 MB/s eta 0:00:00\n",
      "  Preparing metadata (setup.py): started\n",
      "  Preparing metadata (setup.py): finished with status 'done'\n",
      "Requirement already satisfied: numpy>=1.0 in c:\\users\\sriya nukala\\anaconda3\\lib\\site-packages (from np_utils) (1.23.5)\n",
      "Building wheels for collected packages: np_utils\n",
      "  Building wheel for np_utils (setup.py): started\n",
      "  Building wheel for np_utils (setup.py): finished with status 'done'\n",
      "  Created wheel for np_utils: filename=np_utils-0.6.0-py3-none-any.whl size=56454 sha256=93e3ed86a17c61397616d22db8edebcb7a0d1e901588f9333a9a250742ef5c5e\n",
      "  Stored in directory: c:\\users\\sriya nukala\\appdata\\local\\pip\\cache\\wheels\\c9\\5e\\52\\216e2fa9b02d46b865d8160e7fe29dcf98f89a2fb7be254877\n",
      "Successfully built np_utils\n",
      "Installing collected packages: np_utils\n",
      "Successfully installed np_utils-0.6.0\n",
      "Note: you may need to restart the kernel to use updated packages.\n"
     ]
    }
   ],
   "source": [
    "pip install np_utils"
   ]
  },
  {
   "cell_type": "code",
   "execution_count": 17,
   "id": "ba29cab9",
   "metadata": {
    "scrolled": false
   },
   "outputs": [
    {
     "name": "stdout",
     "output_type": "stream",
     "text": [
      "Collecting tensorflow\n",
      "  Downloading tensorflow-2.14.0-cp310-cp310-win_amd64.whl (2.1 kB)\n",
      "Collecting tensorflow-intel==2.14.0\n",
      "  Downloading tensorflow_intel-2.14.0-cp310-cp310-win_amd64.whl (284.1 MB)\n",
      "     -------------------------------------- 284.1/284.1 MB 2.9 MB/s eta 0:00:00\n",
      "Collecting termcolor>=1.1.0\n",
      "  Downloading termcolor-2.3.0-py3-none-any.whl (6.9 kB)\n",
      "Collecting tensorflow-estimator<2.15,>=2.14.0\n",
      "  Downloading tensorflow_estimator-2.14.0-py2.py3-none-any.whl (440 kB)\n",
      "     -------------------------------------- 440.7/440.7 kB 6.8 MB/s eta 0:00:00\n",
      "Collecting opt-einsum>=2.3.2\n",
      "  Downloading opt_einsum-3.3.0-py3-none-any.whl (65 kB)\n",
      "     ---------------------------------------- 65.5/65.5 kB 3.5 MB/s eta 0:00:00\n",
      "Requirement already satisfied: protobuf!=4.21.0,!=4.21.1,!=4.21.2,!=4.21.3,!=4.21.4,!=4.21.5,<5.0.0dev,>=3.20.3 in c:\\users\\sriya nukala\\anaconda3\\lib\\site-packages (from tensorflow-intel==2.14.0->tensorflow) (4.24.0)\n",
      "Collecting libclang>=13.0.0\n",
      "  Downloading libclang-16.0.6-py2.py3-none-win_amd64.whl (24.4 MB)\n",
      "     ---------------------------------------- 24.4/24.4 MB 3.7 MB/s eta 0:00:00\n",
      "Collecting astunparse>=1.6.0\n",
      "  Downloading astunparse-1.6.3-py2.py3-none-any.whl (12 kB)\n",
      "Collecting tensorboard<2.15,>=2.14\n",
      "  Downloading tensorboard-2.14.1-py3-none-any.whl (5.5 MB)\n",
      "     ---------------------------------------- 5.5/5.5 MB 4.0 MB/s eta 0:00:00\n",
      "Requirement already satisfied: setuptools in c:\\users\\sriya nukala\\anaconda3\\lib\\site-packages (from tensorflow-intel==2.14.0->tensorflow) (65.6.3)\n",
      "Collecting absl-py>=1.0.0\n",
      "  Downloading absl_py-2.0.0-py3-none-any.whl (130 kB)\n",
      "     -------------------------------------- 130.2/130.2 kB 3.9 MB/s eta 0:00:00\n",
      "Requirement already satisfied: numpy>=1.23.5 in c:\\users\\sriya nukala\\anaconda3\\lib\\site-packages (from tensorflow-intel==2.14.0->tensorflow) (1.23.5)\n",
      "Collecting tensorflow-io-gcs-filesystem>=0.23.1\n",
      "  Downloading tensorflow_io_gcs_filesystem-0.31.0-cp310-cp310-win_amd64.whl (1.5 MB)\n",
      "     ---------------------------------------- 1.5/1.5 MB 4.7 MB/s eta 0:00:00\n",
      "Collecting gast!=0.5.0,!=0.5.1,!=0.5.2,>=0.2.1\n",
      "  Downloading gast-0.5.4-py3-none-any.whl (19 kB)\n",
      "Collecting ml-dtypes==0.2.0\n",
      "  Downloading ml_dtypes-0.2.0-cp310-cp310-win_amd64.whl (938 kB)\n",
      "     -------------------------------------- 938.6/938.6 kB 5.4 MB/s eta 0:00:00\n",
      "Requirement already satisfied: h5py>=2.9.0 in c:\\users\\sriya nukala\\anaconda3\\lib\\site-packages (from tensorflow-intel==2.14.0->tensorflow) (3.7.0)\n",
      "Collecting flatbuffers>=23.5.26\n",
      "  Downloading flatbuffers-23.5.26-py2.py3-none-any.whl (26 kB)\n",
      "Collecting grpcio<2.0,>=1.24.3\n",
      "  Downloading grpcio-1.59.0-cp310-cp310-win_amd64.whl (3.7 MB)\n",
      "     ---------------------------------------- 3.7/3.7 MB 4.2 MB/s eta 0:00:00\n",
      "Collecting google-pasta>=0.1.1\n",
      "  Downloading google_pasta-0.2.0-py3-none-any.whl (57 kB)\n",
      "     ---------------------------------------- 57.5/57.5 kB 3.1 MB/s eta 0:00:00\n",
      "Requirement already satisfied: six>=1.12.0 in c:\\users\\sriya nukala\\anaconda3\\lib\\site-packages (from tensorflow-intel==2.14.0->tensorflow) (1.16.0)\n",
      "Requirement already satisfied: packaging in c:\\users\\sriya nukala\\anaconda3\\lib\\site-packages (from tensorflow-intel==2.14.0->tensorflow) (23.0)\n",
      "Requirement already satisfied: typing-extensions>=3.6.6 in c:\\users\\sriya nukala\\anaconda3\\lib\\site-packages (from tensorflow-intel==2.14.0->tensorflow) (4.7.1)\n",
      "Collecting keras<2.15,>=2.14.0\n",
      "  Downloading keras-2.14.0-py3-none-any.whl (1.7 MB)\n",
      "     ---------------------------------------- 1.7/1.7 MB 4.9 MB/s eta 0:00:00\n",
      "Requirement already satisfied: wrapt<1.15,>=1.11.0 in c:\\users\\sriya nukala\\anaconda3\\lib\\site-packages (from tensorflow-intel==2.14.0->tensorflow) (1.14.1)\n",
      "Requirement already satisfied: wheel<1.0,>=0.23.0 in c:\\users\\sriya nukala\\anaconda3\\lib\\site-packages (from astunparse>=1.6.0->tensorflow-intel==2.14.0->tensorflow) (0.38.4)\n",
      "Collecting google-auth-oauthlib<1.1,>=0.5\n",
      "  Downloading google_auth_oauthlib-1.0.0-py2.py3-none-any.whl (18 kB)\n",
      "Requirement already satisfied: markdown>=2.6.8 in c:\\users\\sriya nukala\\anaconda3\\lib\\site-packages (from tensorboard<2.15,>=2.14->tensorflow-intel==2.14.0->tensorflow) (3.4.1)\n",
      "Requirement already satisfied: werkzeug>=1.0.1 in c:\\users\\sriya nukala\\anaconda3\\lib\\site-packages (from tensorboard<2.15,>=2.14->tensorflow-intel==2.14.0->tensorflow) (2.2.2)\n",
      "Collecting google-auth<3,>=1.6.3\n",
      "  Downloading google_auth-2.23.2-py2.py3-none-any.whl (181 kB)\n",
      "     ------------------------------------- 182.0/182.0 kB 10.7 MB/s eta 0:00:00\n",
      "Requirement already satisfied: requests<3,>=2.21.0 in c:\\users\\sriya nukala\\anaconda3\\lib\\site-packages (from tensorboard<2.15,>=2.14->tensorflow-intel==2.14.0->tensorflow) (2.31.0)\n",
      "Collecting tensorboard-data-server<0.8.0,>=0.7.0\n",
      "  Downloading tensorboard_data_server-0.7.1-py3-none-any.whl (2.4 kB)\n",
      "Requirement already satisfied: cachetools<6.0,>=2.0.0 in c:\\users\\sriya nukala\\anaconda3\\lib\\site-packages (from google-auth<3,>=1.6.3->tensorboard<2.15,>=2.14->tensorflow-intel==2.14.0->tensorflow) (5.3.1)\n",
      "Requirement already satisfied: rsa<5,>=3.1.4 in c:\\users\\sriya nukala\\anaconda3\\lib\\site-packages (from google-auth<3,>=1.6.3->tensorboard<2.15,>=2.14->tensorflow-intel==2.14.0->tensorflow) (4.9)\n",
      "Requirement already satisfied: pyasn1-modules>=0.2.1 in c:\\users\\sriya nukala\\anaconda3\\lib\\site-packages (from google-auth<3,>=1.6.3->tensorboard<2.15,>=2.14->tensorflow-intel==2.14.0->tensorflow) (0.2.8)\n",
      "Collecting requests-oauthlib>=0.7.0\n",
      "  Downloading requests_oauthlib-1.3.1-py2.py3-none-any.whl (23 kB)\n",
      "Requirement already satisfied: certifi>=2017.4.17 in c:\\users\\sriya nukala\\anaconda3\\lib\\site-packages (from requests<3,>=2.21.0->tensorboard<2.15,>=2.14->tensorflow-intel==2.14.0->tensorflow) (2023.7.22)\n",
      "Requirement already satisfied: urllib3<3,>=1.21.1 in c:\\users\\sriya nukala\\anaconda3\\lib\\site-packages (from requests<3,>=2.21.0->tensorboard<2.15,>=2.14->tensorflow-intel==2.14.0->tensorflow) (1.26.16)\n",
      "Requirement already satisfied: idna<4,>=2.5 in c:\\users\\sriya nukala\\anaconda3\\lib\\site-packages (from requests<3,>=2.21.0->tensorboard<2.15,>=2.14->tensorflow-intel==2.14.0->tensorflow) (3.4)\n",
      "Requirement already satisfied: charset-normalizer<4,>=2 in c:\\users\\sriya nukala\\anaconda3\\lib\\site-packages (from requests<3,>=2.21.0->tensorboard<2.15,>=2.14->tensorflow-intel==2.14.0->tensorflow) (2.0.4)\n",
      "Requirement already satisfied: MarkupSafe>=2.1.1 in c:\\users\\sriya nukala\\anaconda3\\lib\\site-packages (from werkzeug>=1.0.1->tensorboard<2.15,>=2.14->tensorflow-intel==2.14.0->tensorflow) (2.1.1)\n",
      "Requirement already satisfied: pyasn1<0.5.0,>=0.4.6 in c:\\users\\sriya nukala\\anaconda3\\lib\\site-packages (from pyasn1-modules>=0.2.1->google-auth<3,>=1.6.3->tensorboard<2.15,>=2.14->tensorflow-intel==2.14.0->tensorflow) (0.4.8)\n",
      "Collecting oauthlib>=3.0.0\n",
      "  Downloading oauthlib-3.2.2-py3-none-any.whl (151 kB)\n",
      "     -------------------------------------- 151.7/151.7 kB 8.8 MB/s eta 0:00:00\n",
      "Installing collected packages: libclang, flatbuffers, termcolor, tensorflow-io-gcs-filesystem, tensorflow-estimator, tensorboard-data-server, opt-einsum, oauthlib, ml-dtypes, keras, grpcio, google-pasta, gast, astunparse, absl-py, requests-oauthlib, google-auth, google-auth-oauthlib, tensorboard, tensorflow-intel, tensorflow\n",
      "  Attempting uninstall: google-auth\n",
      "    Found existing installation: google-auth 1.4.2\n",
      "    Uninstalling google-auth-1.4.2:\n",
      "      Successfully uninstalled google-auth-1.4.2\n",
      "Successfully installed absl-py-2.0.0 astunparse-1.6.3 flatbuffers-23.5.26 gast-0.5.4 google-auth-2.23.2 google-auth-oauthlib-1.0.0 google-pasta-0.2.0 grpcio-1.59.0 keras-2.14.0 libclang-16.0.6 ml-dtypes-0.2.0 oauthlib-3.2.2 opt-einsum-3.3.0 requests-oauthlib-1.3.1 tensorboard-2.14.1 tensorboard-data-server-0.7.1 tensorflow-2.14.0 tensorflow-estimator-2.14.0 tensorflow-intel-2.14.0 tensorflow-io-gcs-filesystem-0.31.0 termcolor-2.3.0\n",
      "Note: you may need to restart the kernel to use updated packages.\n"
     ]
    }
   ],
   "source": [
    "pip install tensorflow"
   ]
  },
  {
   "cell_type": "code",
   "execution_count": 1,
   "id": "5ed60e03",
   "metadata": {},
   "outputs": [
    {
     "name": "stdout",
     "output_type": "stream",
     "text": [
      "Collecting tensorflow_addons\n",
      "  Downloading tensorflow_addons-0.21.0-cp310-cp310-win_amd64.whl (719 kB)\n",
      "     -------------------------------------- 719.8/719.8 kB 4.5 MB/s eta 0:00:00\n",
      "Collecting typeguard<3.0.0,>=2.7\n",
      "  Downloading typeguard-2.13.3-py3-none-any.whl (17 kB)\n",
      "Requirement already satisfied: packaging in c:\\users\\sriya nukala\\anaconda3\\lib\\site-packages (from tensorflow_addons) (23.0)\n",
      "Installing collected packages: typeguard, tensorflow_addons\n",
      "Successfully installed tensorflow_addons-0.21.0 typeguard-2.13.3\n",
      "Note: you may need to restart the kernel to use updated packages.\n"
     ]
    }
   ],
   "source": [
    "pip install tensorflow_addons"
   ]
  },
  {
   "cell_type": "code",
   "execution_count": 5,
   "id": "2b44ba68",
   "metadata": {},
   "outputs": [
    {
     "name": "stdout",
     "output_type": "stream",
     "text": [
      "Collecting imblearn\n",
      "  Downloading imblearn-0.0-py2.py3-none-any.whl (1.9 kB)\n",
      "Requirement already satisfied: imbalanced-learn in c:\\users\\sriya nukala\\anaconda3\\lib\\site-packages (from imblearn) (0.10.1)\n",
      "Requirement already satisfied: scikit-learn>=1.0.2 in c:\\users\\sriya nukala\\anaconda3\\lib\\site-packages (from imbalanced-learn->imblearn) (1.2.1)\n",
      "Requirement already satisfied: joblib>=1.1.1 in c:\\users\\sriya nukala\\anaconda3\\lib\\site-packages (from imbalanced-learn->imblearn) (1.2.0)\n",
      "Requirement already satisfied: threadpoolctl>=2.0.0 in c:\\users\\sriya nukala\\anaconda3\\lib\\site-packages (from imbalanced-learn->imblearn) (2.2.0)\n",
      "Requirement already satisfied: scipy>=1.3.2 in c:\\users\\sriya nukala\\anaconda3\\lib\\site-packages (from imbalanced-learn->imblearn) (1.10.0)\n",
      "Requirement already satisfied: numpy>=1.17.3 in c:\\users\\sriya nukala\\anaconda3\\lib\\site-packages (from imbalanced-learn->imblearn) (1.23.5)\n",
      "Installing collected packages: imblearn\n",
      "Successfully installed imblearn-0.0\n",
      "Note: you may need to restart the kernel to use updated packages.\n"
     ]
    }
   ],
   "source": [
    "pip install imblearn"
   ]
  },
  {
   "cell_type": "code",
   "execution_count": 4,
   "id": "52a0f723",
   "metadata": {},
   "outputs": [],
   "source": [
    "dataset_path = r'C:\\Users\\Sriya Nukala\\Downloads\\Dataset\\gaussian_filtered_images'\n",
    "filepaths=[]\n",
    "labels=[]"
   ]
  },
  {
   "cell_type": "code",
   "execution_count": 5,
   "id": "b1553296",
   "metadata": {},
   "outputs": [],
   "source": [
    "folds = os.listdir(dataset_path)"
   ]
  },
  {
   "cell_type": "code",
   "execution_count": 6,
   "id": "ab019275",
   "metadata": {},
   "outputs": [
    {
     "data": {
      "text/plain": [
       "['export.pkl', 'Mild', 'Moderate', 'No_DR', 'Proliferate_DR', 'Severe']"
      ]
     },
     "execution_count": 6,
     "metadata": {},
     "output_type": "execute_result"
    }
   ],
   "source": [
    "folds"
   ]
  },
  {
   "cell_type": "code",
   "execution_count": 7,
   "id": "c4f5b00e",
   "metadata": {},
   "outputs": [],
   "source": [
    "for fold in folds:\n",
    "    foldpath = os.path.join(dataset_path, fold)  \n",
    "    # skip export.pkl file\n",
    "    if pathlib.Path(foldpath).suffix == '':\n",
    "        filelist = os.listdir(foldpath)\n",
    "\n",
    "        for file in filelist:\n",
    "            fpath = os.path.join(foldpath, file)\n",
    "            filepaths.append(fpath)\n",
    "            labels.append(fold)"
   ]
  },
  {
   "cell_type": "code",
   "execution_count": 8,
   "id": "d40f42f1",
   "metadata": {},
   "outputs": [],
   "source": [
    "img_paths = pd.Series(filepaths, name= 'filepaths')\n",
    "img_labels = pd.Series(labels, name='labels')\n",
    "dataset = pd.concat([img_paths, img_labels], axis= 1)"
   ]
  },
  {
   "cell_type": "code",
   "execution_count": 9,
   "id": "ff5a73a8",
   "metadata": {},
   "outputs": [
    {
     "data": {
      "text/html": [
       "<div>\n",
       "<style scoped>\n",
       "    .dataframe tbody tr th:only-of-type {\n",
       "        vertical-align: middle;\n",
       "    }\n",
       "\n",
       "    .dataframe tbody tr th {\n",
       "        vertical-align: top;\n",
       "    }\n",
       "\n",
       "    .dataframe thead th {\n",
       "        text-align: right;\n",
       "    }\n",
       "</style>\n",
       "<table border=\"1\" class=\"dataframe\">\n",
       "  <thead>\n",
       "    <tr style=\"text-align: right;\">\n",
       "      <th></th>\n",
       "      <th>filepaths</th>\n",
       "      <th>labels</th>\n",
       "    </tr>\n",
       "  </thead>\n",
       "  <tbody>\n",
       "    <tr>\n",
       "      <th>0</th>\n",
       "      <td>C:\\Users\\Sriya Nukala\\Downloads\\Dataset\\gaussi...</td>\n",
       "      <td>Mild</td>\n",
       "    </tr>\n",
       "    <tr>\n",
       "      <th>1</th>\n",
       "      <td>C:\\Users\\Sriya Nukala\\Downloads\\Dataset\\gaussi...</td>\n",
       "      <td>Mild</td>\n",
       "    </tr>\n",
       "    <tr>\n",
       "      <th>2</th>\n",
       "      <td>C:\\Users\\Sriya Nukala\\Downloads\\Dataset\\gaussi...</td>\n",
       "      <td>Mild</td>\n",
       "    </tr>\n",
       "    <tr>\n",
       "      <th>3</th>\n",
       "      <td>C:\\Users\\Sriya Nukala\\Downloads\\Dataset\\gaussi...</td>\n",
       "      <td>Mild</td>\n",
       "    </tr>\n",
       "    <tr>\n",
       "      <th>4</th>\n",
       "      <td>C:\\Users\\Sriya Nukala\\Downloads\\Dataset\\gaussi...</td>\n",
       "      <td>Mild</td>\n",
       "    </tr>\n",
       "    <tr>\n",
       "      <th>...</th>\n",
       "      <td>...</td>\n",
       "      <td>...</td>\n",
       "    </tr>\n",
       "    <tr>\n",
       "      <th>3657</th>\n",
       "      <td>C:\\Users\\Sriya Nukala\\Downloads\\Dataset\\gaussi...</td>\n",
       "      <td>Severe</td>\n",
       "    </tr>\n",
       "    <tr>\n",
       "      <th>3658</th>\n",
       "      <td>C:\\Users\\Sriya Nukala\\Downloads\\Dataset\\gaussi...</td>\n",
       "      <td>Severe</td>\n",
       "    </tr>\n",
       "    <tr>\n",
       "      <th>3659</th>\n",
       "      <td>C:\\Users\\Sriya Nukala\\Downloads\\Dataset\\gaussi...</td>\n",
       "      <td>Severe</td>\n",
       "    </tr>\n",
       "    <tr>\n",
       "      <th>3660</th>\n",
       "      <td>C:\\Users\\Sriya Nukala\\Downloads\\Dataset\\gaussi...</td>\n",
       "      <td>Severe</td>\n",
       "    </tr>\n",
       "    <tr>\n",
       "      <th>3661</th>\n",
       "      <td>C:\\Users\\Sriya Nukala\\Downloads\\Dataset\\gaussi...</td>\n",
       "      <td>Severe</td>\n",
       "    </tr>\n",
       "  </tbody>\n",
       "</table>\n",
       "<p>3662 rows × 2 columns</p>\n",
       "</div>"
      ],
      "text/plain": [
       "                                              filepaths  labels\n",
       "0     C:\\Users\\Sriya Nukala\\Downloads\\Dataset\\gaussi...    Mild\n",
       "1     C:\\Users\\Sriya Nukala\\Downloads\\Dataset\\gaussi...    Mild\n",
       "2     C:\\Users\\Sriya Nukala\\Downloads\\Dataset\\gaussi...    Mild\n",
       "3     C:\\Users\\Sriya Nukala\\Downloads\\Dataset\\gaussi...    Mild\n",
       "4     C:\\Users\\Sriya Nukala\\Downloads\\Dataset\\gaussi...    Mild\n",
       "...                                                 ...     ...\n",
       "3657  C:\\Users\\Sriya Nukala\\Downloads\\Dataset\\gaussi...  Severe\n",
       "3658  C:\\Users\\Sriya Nukala\\Downloads\\Dataset\\gaussi...  Severe\n",
       "3659  C:\\Users\\Sriya Nukala\\Downloads\\Dataset\\gaussi...  Severe\n",
       "3660  C:\\Users\\Sriya Nukala\\Downloads\\Dataset\\gaussi...  Severe\n",
       "3661  C:\\Users\\Sriya Nukala\\Downloads\\Dataset\\gaussi...  Severe\n",
       "\n",
       "[3662 rows x 2 columns]"
      ]
     },
     "execution_count": 9,
     "metadata": {},
     "output_type": "execute_result"
    }
   ],
   "source": [
    "dataset"
   ]
  },
  {
   "cell_type": "code",
   "execution_count": 10,
   "id": "e6cd4849",
   "metadata": {},
   "outputs": [
    {
     "name": "stdout",
     "output_type": "stream",
     "text": [
      "Found 3662 validated image filenames belonging to 5 classes.\n"
     ]
    }
   ],
   "source": [
    "batch_size=3662\n",
    "img=224\n",
    "img_size = (224, 224)\n",
    "channels = 3\n",
    "img_shape = (img_size[0], img_size[1], channels)\n",
    "\n",
    "gen=ID(rescale = 1./255.)\n",
    "data_gen = gen.flow_from_dataframe( dataset,x_col= 'filepaths', y_col= 'labels', target_size= img_size, class_mode= 'categorical',\n",
    "                                    color_mode= 'rgb', shuffle= True, batch_size= batch_size)\n"
   ]
  },
  {
   "cell_type": "code",
   "execution_count": 11,
   "id": "8493e70e",
   "metadata": {},
   "outputs": [],
   "source": [
    "img_data, img_labels = data_gen.next()"
   ]
  },
  {
   "cell_type": "code",
   "execution_count": 12,
   "id": "11da00e9",
   "metadata": {},
   "outputs": [
    {
     "name": "stdout",
     "output_type": "stream",
     "text": [
      "(3662, 224, 224, 3) (3662, 5)\n"
     ]
    }
   ],
   "source": [
    "print(img_data.shape, img_labels.shape)"
   ]
  },
  {
   "cell_type": "code",
   "execution_count": 13,
   "id": "b98d49d0",
   "metadata": {},
   "outputs": [
    {
     "data": {
      "text/plain": [
       "array([[0., 1., 0., 0., 0.],\n",
       "       [0., 0., 1., 0., 0.],\n",
       "       [1., 0., 0., 0., 0.],\n",
       "       ...,\n",
       "       [0., 0., 1., 0., 0.],\n",
       "       [0., 0., 1., 0., 0.],\n",
       "       [0., 1., 0., 0., 0.]], dtype=float32)"
      ]
     },
     "execution_count": 13,
     "metadata": {},
     "output_type": "execute_result"
    }
   ],
   "source": [
    "img_labels"
   ]
  },
  {
   "cell_type": "code",
   "execution_count": 14,
   "id": "5a387dc9",
   "metadata": {},
   "outputs": [
    {
     "data": {
      "image/png": "[encoded data removed]",
      "text/plain": [
       "<Figure size 2000x2000 with 16 Axes>"
      ]
     },
     "metadata": {},
     "output_type": "display_data"
    }
   ],
   "source": [
    "g_dict = data_gen.class_indices      # defines dictionary {'class': index}\n",
    "classes = list(g_dict.keys())       # defines list of dictionary's kays (classes), classes names : string\n",
    "images, labels = next(data_gen)      # get a batch size samples from the generator\n",
    "\n",
    "plt.figure(figsize= (20, 20))\n",
    "\n",
    "for i in range(16):\n",
    "    plt.subplot(4, 4, i + 1)\n",
    "    image = images[i] / 255       # scales data to range (0 - 255)\n",
    "    plt.imshow(image)\n",
    "    index = np.argmax(labels[i])  # get image index\n",
    "    class_name = classes[index]   # get class of image\n",
    "    plt.title(class_name, color= 'blue', fontsize= 12)\n",
    "    plt.axis('off')\n",
    "plt.show()"
   ]
  },
  {
   "cell_type": "code",
   "execution_count": 15,
   "id": "81e54c34",
   "metadata": {},
   "outputs": [],
   "source": [
    "train_data, test_data, train_labels, test_labels = train_test_split(img_data, img_labels, test_size = 0.25, random_state=42)\n",
    "train_data, val_data, train_labels, val_labels = train_test_split(train_data, train_labels, test_size = 0.2, random_state=42)"
   ]
  },
  {
   "cell_type": "code",
   "execution_count": 14,
   "id": "1cd198a0",
   "metadata": {},
   "outputs": [
    {
     "name": "stdout",
     "output_type": "stream",
     "text": [
      "(5440, 224, 224, 3) (5440, 5)\n"
     ]
    }
   ],
   "source": [
    "sm = SMOTE(random_state=42)\n",
    "\n",
    "train_data1, train_labels1 = sm.fit_resample(train_data.reshape(-1, img * img * 3), train_labels)\n",
    "\n",
    "train_data2 = train_data1.reshape(-1, img, img, 3)\n",
    "\n",
    "print(train_data2.shape, train_labels1.shape)"
   ]
  },
  {
   "cell_type": "code",
   "execution_count": 15,
   "id": "ab379021",
   "metadata": {},
   "outputs": [
    {
     "name": "stdout",
     "output_type": "stream",
     "text": [
      "(2205, 224, 224, 3) (2205, 5)\n"
     ]
    }
   ],
   "source": [
    "test_data1, test_labels1 = sm.fit_resample(test_data.reshape(-1, img * img * 3), test_labels)\n",
    "\n",
    "test_data2 = test_data1.reshape(-1, img, img, 3)\n",
    "\n",
    "print(test_data2.shape, test_labels1.shape)"
   ]
  },
  {
   "cell_type": "code",
   "execution_count": 16,
   "id": "37e5b269",
   "metadata": {},
   "outputs": [
    {
     "name": "stdout",
     "output_type": "stream",
     "text": [
      "(1380, 224, 224, 3) (1380, 5)\n"
     ]
    }
   ],
   "source": [
    "val_data1, val_labels1 = sm.fit_resample(val_data.reshape(-1, img * img * 3), val_labels)\n",
    "\n",
    "val_data2 = val_data1.reshape(-1, img, img, 3)\n",
    "\n",
    "print(val_data2.shape, val_labels1.shape)"
   ]
  },
  {
   "cell_type": "code",
   "execution_count": 17,
   "id": "8b04b303",
   "metadata": {},
   "outputs": [
    {
     "data": {
      "text/plain": [
       "(5440, 224, 224, 3)"
      ]
     },
     "execution_count": 17,
     "metadata": {},
     "output_type": "execute_result"
    }
   ],
   "source": [
    "train_data2.shape"
   ]
  },
  {
   "cell_type": "code",
   "execution_count": 16,
   "id": "48c2b6fa",
   "metadata": {},
   "outputs": [],
   "source": [
    "from tensorflow.keras.applications import resnet50\n",
    "from tensorflow.keras.models import Model"
   ]
  },
  {
   "cell_type": "code",
   "execution_count": 17,
   "id": "d85b4ddc",
   "metadata": {},
   "outputs": [],
   "source": [
    "METRICS = [tf.keras.metrics.CategoricalAccuracy(name='Accuracy'),\n",
    "           tf.keras.metrics.AUC(name='AUC'),\n",
    "           tfa.metrics.F1Score(num_classes=5)]"
   ]
  },
  {
   "cell_type": "code",
   "execution_count": 18,
   "id": "063fca16",
   "metadata": {},
   "outputs": [],
   "source": [
    "resnet50 = resnet50.ResNet50(input_shape = (224,224,3), weights = 'imagenet', include_top = False)\n",
    "for layer in resnet50.layers:\n",
    "    layer.trainable = False\n",
    "x = Flatten()(resnet50.output)\n",
    "x = Dense(128, activation = 'relu')(x) \n",
    "x = Dense(64, activation = 'relu')(x) \n",
    "x = Dense(5, activation = 'softmax')(x) \n",
    "model = Model(inputs = resnet50.input, outputs = x)\n",
    "model.compile(loss='categorical_crossentropy', optimizer='adam', metrics=METRICS)"
   ]
  },
  {
   "cell_type": "code",
   "execution_count": 19,
   "id": "5a131751",
   "metadata": {},
   "outputs": [
    {
     "name": "stdout",
     "output_type": "stream",
     "text": [
      "Epoch 1/10\n",
      "69/69 [==============================] - 109s 2s/step - loss: 1.7750 - Accuracy: 0.5792 - AUC: 0.8083 - f1_score: 0.3014 - val_loss: 0.8862 - val_Accuracy: 0.6909 - val_AUC: 0.9004 - val_f1_score: 0.3012\n",
      "Epoch 2/10\n",
      "69/69 [==============================] - 106s 2s/step - loss: 1.0044 - Accuracy: 0.6557 - AUC: 0.8748 - f1_score: 0.3369 - val_loss: 0.9501 - val_Accuracy: 0.5418 - val_AUC: 0.8803 - val_f1_score: 0.2297\n",
      "Epoch 3/10\n",
      "69/69 [==============================] - 106s 2s/step - loss: 0.9756 - Accuracy: 0.6425 - AUC: 0.8788 - f1_score: 0.3377 - val_loss: 0.9760 - val_Accuracy: 0.6127 - val_AUC: 0.8864 - val_f1_score: 0.2930\n",
      "Epoch 4/10\n",
      "69/69 [==============================] - 106s 2s/step - loss: 0.9303 - Accuracy: 0.6653 - AUC: 0.8883 - f1_score: 0.3387 - val_loss: 0.8768 - val_Accuracy: 0.6073 - val_AUC: 0.8971 - val_f1_score: 0.3194\n",
      "Epoch 5/10\n",
      "69/69 [==============================] - 107s 2s/step - loss: 0.8936 - Accuracy: 0.6835 - AUC: 0.8965 - f1_score: 0.3618 - val_loss: 0.8561 - val_Accuracy: 0.6236 - val_AUC: 0.9031 - val_f1_score: 0.3470\n",
      "Epoch 6/10\n",
      "69/69 [==============================] - 107s 2s/step - loss: 0.8727 - Accuracy: 0.6826 - AUC: 0.9016 - f1_score: 0.3626 - val_loss: 0.8145 - val_Accuracy: 0.7127 - val_AUC: 0.9139 - val_f1_score: 0.4333\n",
      "Epoch 7/10\n",
      "69/69 [==============================] - 107s 2s/step - loss: 0.8587 - Accuracy: 0.6922 - AUC: 0.9046 - f1_score: 0.3689 - val_loss: 0.8170 - val_Accuracy: 0.6891 - val_AUC: 0.9125 - val_f1_score: 0.3990\n",
      "Epoch 8/10\n",
      "69/69 [==============================] - 109s 2s/step - loss: 0.8435 - Accuracy: 0.6954 - AUC: 0.9076 - f1_score: 0.3627 - val_loss: 0.7835 - val_Accuracy: 0.7218 - val_AUC: 0.9213 - val_f1_score: 0.3929\n",
      "Epoch 9/10\n",
      "69/69 [==============================] - 107s 2s/step - loss: 0.8432 - Accuracy: 0.6981 - AUC: 0.9072 - f1_score: 0.3758 - val_loss: 0.7442 - val_Accuracy: 0.7309 - val_AUC: 0.9301 - val_f1_score: 0.3251\n",
      "Epoch 10/10\n",
      "69/69 [==============================] - 107s 2s/step - loss: 0.8284 - Accuracy: 0.7004 - AUC: 0.9107 - f1_score: 0.3649 - val_loss: 0.7509 - val_Accuracy: 0.7291 - val_AUC: 0.9282 - val_f1_score: 0.3242\n"
     ]
    }
   ],
   "source": [
    "history = model.fit(train_data,train_labels, epochs= 10,verbose= 1, validation_data= (val_data,val_labels), \n",
    "                    validation_steps= None, shuffle= False,batch_size=32)"
   ]
  },
  {
   "cell_type": "code",
   "execution_count": 20,
   "id": "656e7d5d",
   "metadata": {},
   "outputs": [
    {
     "name": "stdout",
     "output_type": "stream",
     "text": [
      "69/69 [==============================] - 80s 1s/step - loss: 0.8056 - Accuracy: 0.7108 - AUC: 0.9197 - f1_score: 0.3289\n",
      "18/18 [==============================] - 20s 1s/step - loss: 0.7509 - Accuracy: 0.7291 - AUC: 0.9282 - f1_score: 0.3242\n",
      "29/29 [==============================] - 35s 1s/step - loss: 0.8053 - Accuracy: 0.7107 - AUC: 0.9221 - f1_score: 0.3199\n",
      "Training Accuracy: 71.08%\n",
      "Validation Accuracy: 72.91%\n",
      "Testing Accuracy: 71.07%\n"
     ]
    }
   ],
   "source": [
    "train_scores = model.evaluate(train_data, train_labels)\n",
    "val_scores = model.evaluate(val_data, val_labels)\n",
    "test_scores = model.evaluate(test_data,test_labels)\n",
    "\n",
    "print(\"Training Accuracy: %.2f%%\"%(train_scores[1] * 100))\n",
    "print(\"Validation Accuracy: %.2f%%\"%(val_scores[1] * 100))\n",
    "print(\"Testing Accuracy: %.2f%%\"%(test_scores[1] * 100))"
   ]
  },
  {
   "cell_type": "code",
   "execution_count": 46,
   "id": "b90e3378",
   "metadata": {},
   "outputs": [
    {
     "data": {
      "image/png": "[encoded data removed]",
      "text/plain": [
       "<Figure size 640x480 with 1 Axes>"
      ]
     },
     "metadata": {},
     "output_type": "display_data"
    }
   ],
   "source": [
    "fig, ax = plt.subplots()\n",
    "plt.plot(history.history['Accuracy'])\n",
    "plt.plot(history.history['val_Accuracy'])\n",
    "plt.title('Model Accuracy')\n",
    "plt.ylabel('Accuracy')\n",
    "plt.xlabel('Epochs')\n",
    "plt.legend(['Training', 'Validation'], loc='upper left')\n",
    "plt.show()\n",
    "fig.savefig('Model Accuracy_resnet50_nsm_nes-10.png', format='png', dpi=300)"
   ]
  },
  {
   "cell_type": "code",
   "execution_count": 47,
   "id": "9b743f88",
   "metadata": {},
   "outputs": [
    {
     "data": {
      "image/png": "[encoded data removed]",
      "text/plain": [
       "<Figure size 640x480 with 1 Axes>"
      ]
     },
     "metadata": {},
     "output_type": "display_data"
    }
   ],
   "source": [
    "fig, ax = plt.subplots()\n",
    "plt.plot(history.history['loss'])\n",
    "plt.plot(history.history['val_loss'])\n",
    "plt.title('Model Loss')\n",
    "plt.ylabel('Loss')\n",
    "plt.xlabel('Epochs')\n",
    "plt.legend(['Training', 'Validation'], loc='upper left')\n",
    "plt.show()\n",
    "fig.savefig('Model Loss_resnet50_nsm_nes-10.png', format='png', dpi=300)"
   ]
  },
  {
   "cell_type": "code",
   "execution_count": 48,
   "id": "36d004b4",
   "metadata": {},
   "outputs": [
    {
     "data": {
      "image/png": "[encoded data removed]",
      "text/plain": [
       "<Figure size 640x480 with 1 Axes>"
      ]
     },
     "metadata": {},
     "output_type": "display_data"
    }
   ],
   "source": [
    "fig, ax = plt.subplots()\n",
    "plt.plot(history.history['AUC'])\n",
    "plt.plot(history.history['val_AUC'])\n",
    "plt.title('Model AUC')\n",
    "plt.ylabel('AUC')\n",
    "plt.xlabel('Epochs')\n",
    "plt.legend(['Training', 'Validation'], loc='upper left')\n",
    "plt.show()\n",
    "fig.savefig('Model AUC_resnet50_nsm_nes-10.png', format='png', dpi=300)"
   ]
  },
  {
   "cell_type": "code",
   "execution_count": 49,
   "id": "842a09bf",
   "metadata": {},
   "outputs": [
    {
     "name": "stdout",
     "output_type": "stream",
     "text": [
      "29/29 [==============================] - 52s 2s/step\n"
     ]
    }
   ],
   "source": [
    "pred_labels = model.predict(test_data)"
   ]
  },
  {
   "cell_type": "code",
   "execution_count": 50,
   "id": "b4477fb0",
   "metadata": {},
   "outputs": [
    {
     "data": {
      "text/plain": [
       "0.8869434921058176"
      ]
     },
     "execution_count": 50,
     "metadata": {},
     "output_type": "execute_result"
    }
   ],
   "source": [
    "from sklearn import metrics\n",
    "auc = metrics.roc_auc_score(test_labels,pred_labels,multi_class='ovo')\n",
    "auc"
   ]
  },
  {
   "cell_type": "code",
   "execution_count": null,
   "id": "a7f8bc42",
   "metadata": {},
   "outputs": [],
   "source": []
  },
  {
   "cell_type": "code",
   "execution_count": null,
   "id": "eba03f44",
   "metadata": {},
   "outputs": [],
   "source": []
  },
  {
   "cell_type": "code",
   "execution_count": null,
   "id": "8c2dec1b",
   "metadata": {},
   "outputs": [],
   "source": []
  },
  {
   "cell_type": "code",
   "execution_count": 34,
   "id": "bdfb2568",
   "metadata": {},
   "outputs": [
    {
     "ename": "NameError",
     "evalue": "name 'confusion_matrix' is not defined",
     "output_type": "error",
     "traceback": [
      "\u001b[1;31m---------------------------------------------------------------------------\u001b[0m",
      "\u001b[1;31mNameError\u001b[0m                                 Traceback (most recent call last)",
      "Cell \u001b[1;32mIn[34], line 4\u001b[0m\n\u001b[0;32m      1\u001b[0m pred_ls \u001b[38;5;241m=\u001b[39m np\u001b[38;5;241m.\u001b[39margmax(pred_labels, axis\u001b[38;5;241m=\u001b[39m\u001b[38;5;241m1\u001b[39m)\n\u001b[0;32m      2\u001b[0m test_ls \u001b[38;5;241m=\u001b[39m np\u001b[38;5;241m.\u001b[39margmax(test_labels, axis\u001b[38;5;241m=\u001b[39m\u001b[38;5;241m1\u001b[39m)\n\u001b[1;32m----> 4\u001b[0m conf_arr \u001b[38;5;241m=\u001b[39m \u001b[43mconfusion_matrix\u001b[49m(test_ls, pred_ls)\n\u001b[0;32m      5\u001b[0m conf_arr\n",
      "\u001b[1;31mNameError\u001b[0m: name 'confusion_matrix' is not defined"
     ]
    }
   ],
   "source": [
    "pred_ls = np.argmax(pred_labels, axis=1)\n",
    "test_ls = np.argmax(test_labels, axis=1)\n",
    "\n",
    "conf_arr = confusion_matrix(test_ls, pred_ls)\n",
    "conf_arr"
   ]
  },
  {
   "cell_type": "code",
   "execution_count": null,
   "id": "3a14b1eb",
   "metadata": {},
   "outputs": [],
   "source": [
    "pred_ls = np.argmax(pred_labels, axis=1)\n",
    "test_ls = np.argmax(test_labels, axis=1)\n",
    "\n",
    "conf_arr = confusion_matrix(test_ls, pred_ls)\n",
    "cmn = conf_arr.astype('float') / conf_arr.sum(axis=1)[:, np.newaxis]\n",
    "fig=plt.figure(figsize=(4,3), dpi=300, facecolor='w', edgecolor='k')\n",
    "\n",
    "ax = sns.heatmap(cmn, cmap='Greens', annot=True, fmt=\".2f\", xticklabels= CLASSES,\n",
    "                yticklabels=CLASSES)\n",
    "\n",
    "plt.title('Confusion Matrix')\n",
    "plt.xlabel('Prediction')\n",
    "plt.ylabel('Truth')\n",
    "plt.show(ax)\n",
    "ax.figure.savefig('confmatrix_VGG16.png', format='png', dpi=300)"
   ]
  },
  {
   "cell_type": "code",
   "execution_count": null,
   "id": "d6d37016",
   "metadata": {},
   "outputs": [],
   "source": [
    "pred_labels1=np.argmax(pred_labels,axis=1)\n",
    "test_labels1=np.argmax(test_labels,axis=1)"
   ]
  },
  {
   "cell_type": "code",
   "execution_count": null,
   "id": "6ed7e512",
   "metadata": {},
   "outputs": [],
   "source": [
    "predlabels_new=label_binarize(pred_labels1,classes=np.unique(pred_labels1))\n",
    "classes=np.unique(pred_labels1)"
   ]
  },
  {
   "cell_type": "code",
   "execution_count": null,
   "id": "3c01c304",
   "metadata": {},
   "outputs": [],
   "source": [
    "fig, ax = plt.subplots()\n",
    "f_p_r=dict()\n",
    "t_p_r = dict()\n",
    "thres=dict()\n",
    "rocauc_curve= dict()\n",
    "total_no_of_class = classes.shape[0]\n",
    "for i in range(total_no_of_class):    \n",
    "    f_p_r[i], t_p_r[i], thres[i] = metrics.roc_curve(test_labels[:,i],predlabels_new[:,i])\n",
    "    rocauc_curve[i] = metrics.auc(f_p_r[i], t_p_r[i])    \n",
    "    plt.plot(f_p_r[i], t_p_r[i], linestyle='--',label='%s vs Rest (AUC=%0.2f)'%(classes[i],rocauc_curve[i]))\n",
    "\n",
    "plt.plot([0,1],[0,1],'b-')\n",
    "plt.xlim([0,1])\n",
    "plt.ylim([0,1.05])\n",
    "plt.title('ROC-AUC Curve')\n",
    "plt.xlabel('False positive rate')\n",
    "plt.ylabel('True positive rate')\n",
    "plt.legend(loc='lower right')\n",
    "plt.show()\n",
    "fig.savefig('ROCAUC_EfficientNet.png', format='png', dpi=300)"
   ]
  },
  {
   "cell_type": "code",
   "execution_count": null,
   "id": "fade49f6",
   "metadata": {},
   "outputs": [],
   "source": [
    "def roundoff(arr):\n",
    "    arr[np.argwhere(arr != arr.max())] = 0\n",
    "    arr[np.argwhere(arr == arr.max())] = 1\n",
    "    return arr\n",
    "\n",
    "for labels in pred_labels:\n",
    "    labels = roundoff(labels)\n",
    "print(classification_report(test_labels, pred_labels, target_names=CLASSES))"
   ]
  },
  {
   "cell_type": "code",
   "execution_count": null,
   "id": "52ada7f2",
   "metadata": {},
   "outputs": [],
   "source": [
    "fpr = dict()\n",
    "tpr = dict()\n",
    "thresh =dict()\n",
    "roc_auc = dict()\n",
    "\n",
    "n_class = classes.shape[0]\n",
    "fig=plt.figure(figsize=(10, 8), dpi=300)\n",
    "for i, in zip(range(n_class)):    \n",
    "    fpr[i], tpr[i], thresh[i] = metrics.roc_curve(test_labels[:,i],predlabels_new[:,i])\n",
    "    roc_auc[i] = metrics.auc(fpr[i], tpr[i])\n",
    "    if classes[i]==0:\n",
    "        plt.plot(fpr[i], tpr[i], linestyle='--',label='NonDemented (AUC=%0.2f)'%(roc_auc[i]))\n",
    "    if classes[i]==1:\n",
    "        plt.plot(fpr[i], tpr[i], linestyle='--',label='VeryMildDemented (AUC=%0.2f)'%(roc_auc[i]))\n",
    "    if classes[i]==2:\n",
    "        plt.plot(fpr[i], tpr[i], linestyle='--',label='MildDemented (AUC=%0.2f)'%(roc_auc[i]))\n",
    "    if classes[i]==3:\n",
    "        plt.plot(fpr[i], tpr[i], linestyle='--',label='ModerateDemented (AUC=%0.2f)'%(roc_auc[i]))\n",
    "plt.plot([0,1],[0,1],'b-')\n",
    "plt.xlim([0,1])\n",
    "plt.ylim([0,1.05])\n",
    "plt.title('ROC curve')\n",
    "plt.xlabel('False Positive Rate')\n",
    "plt.ylabel('True Positive rate')\n",
    "plt.legend(loc='lower right')\n",
    "plt.show()\n",
    "fig.savefig('myfig_EfficientNet.png',dpi=300)"
   ]
  },
  {
   "cell_type": "code",
   "execution_count": null,
   "id": "0de69fdb",
   "metadata": {},
   "outputs": [],
   "source": [
    "fpr = dict()\n",
    "tpr = dict()\n",
    "thresh =dict()\n",
    "roc_auc = dict()\n",
    "\n",
    "n_class = classes.shape[0]\n",
    "\n",
    "fig=plt.figure(figsize=(10, 8), dpi=300)\n",
    "for i in zip(range(n_class)):    \n",
    "    fpr[i], tpr[i], thresh[i] = metrics.roc_curve(test_labels[:,i],pred_labels[:,i])\n",
    "    roc_auc[i] = metrics.auc(fpr[i], tpr[i])\n",
    "    if classes[i]==0:\n",
    "        plt.plot(fpr[i], tpr[i], linestyle='--',label='NonDemented (AUC=%0.2f)'%(roc_auc[i]))\n",
    "    if classes[i]==1:\n",
    "        plt.plot(fpr[i], tpr[i], linestyle='--',label='VeryMildDemented (AUC=%0.2f)'%(roc_auc[i]))\n",
    "    if classes[i]==2:\n",
    "        plt.plot(fpr[i], tpr[i], linestyle='--',label='MildDemented (AUC=%0.2f)'%(roc_auc[i]))\n",
    "    if classes[i]==3:\n",
    "        plt.plot(fpr[i], tpr[i], linestyle='--',label='ModerateDemented (AUC=%0.2f)'%(roc_auc[i]))\n",
    "plt.plot([0,1],[0,1],'b-')\n",
    "plt.xlim([0,1])\n",
    "plt.ylim([0,1.05])\n",
    "plt.title('Testing ROC_AUC_Curve')\n",
    "plt.xlabel('False Positive Rate')\n",
    "plt.ylabel('True Positive rate')\n",
    "plt.legend(loc='lower right')\n",
    "plt.show()\n",
    "fig.savefig('brain mri testing roc auc_EfficientNet.png',dpi=300)# roc curve for classes"
   ]
  },
  {
   "cell_type": "code",
   "execution_count": null,
   "id": "cda29b9a",
   "metadata": {},
   "outputs": [],
   "source": []
  },
  {
   "cell_type": "code",
   "execution_count": null,
   "id": "1ac587d2",
   "metadata": {},
   "outputs": [],
   "source": []
  },
  {
   "cell_type": "code",
   "execution_count": null,
   "id": "eacbe271",
   "metadata": {},
   "outputs": [],
   "source": []
  },
  {
   "cell_type": "code",
   "execution_count": null,
   "id": "1f22a03c",
   "metadata": {},
   "outputs": [],
   "source": []
  },
  {
   "cell_type": "code",
   "execution_count": null,
   "id": "4b642a0d",
   "metadata": {},
   "outputs": [],
   "source": []
  },
  {
   "cell_type": "code",
   "execution_count": null,
   "id": "e3b5de46",
   "metadata": {},
   "outputs": [],
   "source": []
  }
 ],
 "metadata": {
  "kernelspec": {
   "display_name": "Python 3 (ipykernel)",
   "language": "python",
   "name": "python3"
  },
  "language_info": {
   "codemirror_mode": {
    "name": "ipython",
    "version": 3
   },
   "file_extension": ".py",
   "mimetype": "text/x-python",
   "name": "python",
   "nbconvert_exporter": "python",
   "pygments_lexer": "ipython3",
   "version": "3.10.9"
  }
 },
 "nbformat": 4,
 "nbformat_minor": 5
}
